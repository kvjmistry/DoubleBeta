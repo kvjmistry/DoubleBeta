{
 "cells": [
  {
   "cell_type": "code",
   "execution_count": null,
   "metadata": {},
   "outputs": [],
   "source": [
    "import pandas as pd\n",
    "import numpy as np\n",
    "import tables as tb\n",
    "import os\n",
    "import matplotlib.pyplot as plt\n",
    "from scipy.signal import savgol_filter\n",
    "from mpl_interactions import ioff, panhandler, zoom_factory\n",
    "from ipywidgets import interact, IntSlider\n",
    "import ipywidgets as widgets"
   ]
  },
  {
   "cell_type": "code",
   "execution_count": null,
   "metadata": {},
   "outputs": [],
   "source": [
    "# good events: 4,5,  37\n",
    "%matplotlib widget\n",
    "# fig  = plt.figure(figsize=(10, 10))\n",
    "# with plt.ioff():\n",
    "    # fig, axis = plt.subplots( figsize=(8, 6))\n",
    "\n",
    "\n",
    "# event_number = 5\n",
    "list = [5]\n",
    "for index, event in enumerate(list): # enumerate(raw_evts.evt_number.unique()):\n",
    "    fig, axis = plt.subplots( figsize=(8, 6))\n",
    "\n",
    "    # Create 3D axes\n",
    "    ax = fig.add_subplot(111)\n",
    "    fig.set_facecolor('black')\n",
    "    ax.set_facecolor('black')\n",
    "\n",
    "    with tb.open_file(path) as file:\n",
    "        wf_blr  = sum_wf(file.root.RD. pmtblr, index)\n",
    "\n",
    "    sp_pmt  = 25e-3 # sampling period in mus\n",
    "    t_pmt   = np.arange(wf_pmt .size) * sp_pmt\n",
    "\n",
    "    ax.plot(t_pmt , wf_blr , label = \"PMT BLR\", color = \"darkorange\");\n",
    "    ax.set_xlabel(\"Time [mus]\")\n",
    "    ax.set_ylabel(\"Amplitude (ADC)\")\n",
    "    legend = ax.legend(loc = \"lower right\",facecolor = \"black\")\n",
    "    # Set the color of the axes labels and ticks to white\n",
    "    ax.xaxis.label.set_color('white')\n",
    "    ax.yaxis.label.set_color('white')\n",
    "    ax.tick_params(axis='x', colors='white')\n",
    "    ax.tick_params(axis='y', colors='white')\n",
    "    # Set the color of the spines (borders) to white\n",
    "    ax.spines['bottom'].set_color('white')\n",
    "    ax.spines['top'].set_color('white')\n",
    "    ax.spines['right'].set_color('white')\n",
    "    ax.spines['left'].set_color('white')\n",
    "    # Set the text color of the legend\n",
    "    for text in legend.get_texts():\n",
    "        text.set_color('white')  # Set the text color to red\n",
    "\n",
    "    # disconnect_zoom = zoom_factory(axis)\n",
    "    # Enable scrolling and panning with the help of MPL\n",
    "    # Interactions library function like panhandler.\n",
    "    # pan_handler = panhandler(fig)\n",
    "    # display(fig.canvas)\n",
    "    plt.savefig(f\"../plots/event{event}.png\")"
   ]
  }
 ],
 "metadata": {
  "language_info": {
   "name": "python"
  }
 },
 "nbformat": 4,
 "nbformat_minor": 2
}
